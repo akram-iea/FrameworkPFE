{
 "cells": [
  {
   "cell_type": "code",
   "execution_count": 1,
   "metadata": {},
   "outputs": [],
   "source": [
    "import pandas as pd\n",
    "import pymongo\n",
    "from pymongo import MongoClient\n",
    "from datetime import datetime\n",
    "import numpy as np\n",
    "import matplotlib.pyplot as plt"
   ]
  },
  {
   "cell_type": "code",
   "execution_count": 2,
   "metadata": {},
   "outputs": [],
   "source": [
    "myclient = MongoClient(\"mongodb://localhost:27017/\")"
   ]
  },
  {
   "cell_type": "code",
   "execution_count": 3,
   "metadata": {},
   "outputs": [],
   "source": [
    "def read_mgdb_data(index_name=\"\" ,client_name=\"forex_data\", collection_name=\"closing_prices\", set_index_on_date=True):\n",
    "    if not index_name:\n",
    "        print(\"Specify index name\")\n",
    "        return()\n",
    "    \n",
    "    mydb = myclient[client_name]\n",
    "    mycol = mydb[collection_name]\n",
    "    \n",
    "    data_from_db = mycol.find_one({\"index\":index_name})\n",
    "    df = pd.DataFrame(data_from_db['data'])\n",
    "    if set_index_on_date:\n",
    "        df = df.set_index(\"Date\")\n",
    "    return(df)"
   ]
  },
  {
   "cell_type": "code",
   "execution_count": 4,
   "metadata": {},
   "outputs": [],
   "source": [
    "XAFMAD = read_mgdb_data(\"XAFMAD\")\n",
    "MGAMAD = read_mgdb_data(\"MGAMAD\")\n",
    "CHFMAD = read_mgdb_data(\"CHFMAD\")\n",
    "EURMAD = read_mgdb_data(\"EURMAD\")\n",
    "USDMAD = read_mgdb_data(\"USDMAD\")\n",
    "GBPMAD = read_mgdb_data(\"GBPMAD\")\n",
    "SEKMAD = read_mgdb_data(\"SEKMAD\")"
   ]
  },
  {
   "cell_type": "code",
   "execution_count": 5,
   "metadata": {},
   "outputs": [],
   "source": [
    "XAFMAD_ar = np.array(XAFMAD)\n",
    "MGAMAD_ar = np.array(MGAMAD)\n",
    "CHFMAD_ar = np.array(CHFMAD)\n",
    "EURMAD_ar = np.array(EURMAD)\n",
    "USDMAD_ar = np.array(USDMAD)\n",
    "GBPMAD_ar = np.array(GBPMAD)\n",
    "SEKMAD_ar = np.array(SEKMAD)"
   ]
  },
  {
   "cell_type": "code",
   "execution_count": 6,
   "metadata": {},
   "outputs": [],
   "source": [
    "res_filiales = pd.read_csv(r\"resultats_filiales.csv\", index_col=0)"
   ]
  },
  {
   "cell_type": "code",
   "execution_count": 7,
   "metadata": {},
   "outputs": [],
   "source": [
    "resultat_par_devise = res_filiales.groupby(\"Home_Currency\").sum().drop(\"MAD\", axis=0)"
   ]
  },
  {
   "cell_type": "code",
   "execution_count": 8,
   "metadata": {},
   "outputs": [
    {
     "data": {
      "text/html": [
       "<div>\n",
       "<style scoped>\n",
       "    .dataframe tbody tr th:only-of-type {\n",
       "        vertical-align: middle;\n",
       "    }\n",
       "\n",
       "    .dataframe tbody tr th {\n",
       "        vertical-align: top;\n",
       "    }\n",
       "\n",
       "    .dataframe thead th {\n",
       "        text-align: right;\n",
       "    }\n",
       "</style>\n",
       "<table border=\"1\" class=\"dataframe\">\n",
       "  <thead>\n",
       "    <tr style=\"text-align: right;\">\n",
       "      <th></th>\n",
       "      <th>CV_MAD</th>\n",
       "    </tr>\n",
       "    <tr>\n",
       "      <th>Home_Currency</th>\n",
       "      <th></th>\n",
       "    </tr>\n",
       "  </thead>\n",
       "  <tbody>\n",
       "    <tr>\n",
       "      <th>CHF</th>\n",
       "      <td>1.905356e+05</td>\n",
       "    </tr>\n",
       "    <tr>\n",
       "      <th>EUR</th>\n",
       "      <td>1.470713e+08</td>\n",
       "    </tr>\n",
       "    <tr>\n",
       "      <th>GBP</th>\n",
       "      <td>3.319587e+04</td>\n",
       "    </tr>\n",
       "    <tr>\n",
       "      <th>MGA</th>\n",
       "      <td>3.479076e+07</td>\n",
       "    </tr>\n",
       "    <tr>\n",
       "      <th>SEK</th>\n",
       "      <td>6.959638e+05</td>\n",
       "    </tr>\n",
       "    <tr>\n",
       "      <th>USD</th>\n",
       "      <td>-2.071085e+07</td>\n",
       "    </tr>\n",
       "    <tr>\n",
       "      <th>XAF</th>\n",
       "      <td>1.138991e+06</td>\n",
       "    </tr>\n",
       "    <tr>\n",
       "      <th>XOF</th>\n",
       "      <td>4.821950e+07</td>\n",
       "    </tr>\n",
       "  </tbody>\n",
       "</table>\n",
       "</div>"
      ],
      "text/plain": [
       "                     CV_MAD\n",
       "Home_Currency              \n",
       "CHF            1.905356e+05\n",
       "EUR            1.470713e+08\n",
       "GBP            3.319587e+04\n",
       "MGA            3.479076e+07\n",
       "SEK            6.959638e+05\n",
       "USD           -2.071085e+07\n",
       "XAF            1.138991e+06\n",
       "XOF            4.821950e+07"
      ]
     },
     "execution_count": 8,
     "metadata": {},
     "output_type": "execute_result"
    }
   ],
   "source": [
    "resultat_par_devise"
   ]
  },
  {
   "cell_type": "code",
   "execution_count": 9,
   "metadata": {},
   "outputs": [
    {
     "data": {
      "text/plain": [
       "CV_MAD    2.114294e+08\n",
       "dtype: float64"
      ]
     },
     "execution_count": 9,
     "metadata": {},
     "output_type": "execute_result"
    }
   ],
   "source": [
    "resultat_par_devise.sum()"
   ]
  },
  {
   "cell_type": "code",
   "execution_count": 10,
   "metadata": {},
   "outputs": [],
   "source": [
    "resultat_par_devise.loc[\"XAF\"] = resultat_par_devise.loc[\"XAF\"] + resultat_par_devise.loc[\"XOF\"]\n",
    "resultat_par_devise = resultat_par_devise.drop(\"XOF\", axis=0)"
   ]
  },
  {
   "cell_type": "code",
   "execution_count": 11,
   "metadata": {},
   "outputs": [
    {
     "data": {
      "text/plain": [
       "<AxesSubplot:xlabel='Home_Currency'>"
      ]
     },
     "execution_count": 11,
     "metadata": {},
     "output_type": "execute_result"
    },
    {
     "data": {
      "image/png": "[encoded data removed]",
      "text/plain": [
       "<Figure size 432x288 with 1 Axes>"
      ]
     },
     "metadata": {
      "needs_background": "light"
     },
     "output_type": "display_data"
    }
   ],
   "source": [
    "resultat_par_devise.plot.bar()"
   ]
  },
  {
   "cell_type": "code",
   "execution_count": 12,
   "metadata": {},
   "outputs": [],
   "source": [
    "resultat_par_devise = resultat_par_devise.drop([\"SEK\", \"GBP\", \"CHF\"])"
   ]
  },
  {
   "cell_type": "code",
   "execution_count": 13,
   "metadata": {},
   "outputs": [
    {
     "data": {
      "text/plain": [
       "<AxesSubplot:xlabel='Home_Currency'>"
      ]
     },
     "execution_count": 13,
     "metadata": {},
     "output_type": "execute_result"
    },
    {
     "data": {
      "image/png": "[encoded data removed]",
      "text/plain": [
       "<Figure size 432x288 with 1 Axes>"
      ]
     },
     "metadata": {
      "needs_background": "light"
     },
     "output_type": "display_data"
    }
   ],
   "source": [
    "resultat_par_devise.plot.bar()"
   ]
  },
  {
   "cell_type": "code",
   "execution_count": 17,
   "metadata": {},
   "outputs": [],
   "source": [
    "resultat_par_devise.loc[\"EUR\"] = resultat_par_devise.loc[\"EUR\"] + resultat_par_devise.loc[\"XAF\"]"
   ]
  },
  {
   "cell_type": "code",
   "execution_count": 21,
   "metadata": {},
   "outputs": [],
   "source": [
    "resultat_par_devise = resultat_par_devise.drop(\"XAF\")"
   ]
  },
  {
   "cell_type": "code",
   "execution_count": 22,
   "metadata": {},
   "outputs": [
    {
     "data": {
      "text/plain": [
       "<AxesSubplot:xlabel='Home_Currency'>"
      ]
     },
     "execution_count": 22,
     "metadata": {},
     "output_type": "execute_result"
    },
    {
     "data": {
      "image/png": "[encoded data removed]",
      "text/plain": [
       "<Figure size 432x288 with 1 Axes>"
      ]
     },
     "metadata": {
      "needs_background": "light"
     },
     "output_type": "display_data"
    }
   ],
   "source": [
    "resultat_par_devise.plot.bar()"
   ]
  },
  {
   "cell_type": "code",
   "execution_count": 39,
   "metadata": {},
   "outputs": [],
   "source": [
    "S_O = [EURMAD.loc[\"2019-03-01\"].values[0], MGAMAD.loc[\"2019-03-01\"].values[0], USDMAD.loc[\"2019-03-01\"].values[0]]"
   ]
  },
  {
   "cell_type": "code",
   "execution_count": 47,
   "metadata": {},
   "outputs": [],
   "source": [
    "S0 = pd.Series(index=[\"EUR\", \"MGA\", \"USD\"], data=S_O)"
   ]
  },
  {
   "cell_type": "code",
   "execution_count": 53,
   "metadata": {},
   "outputs": [],
   "source": [
    "for i in list(S0.index):\n",
    "    resultat_par_devise.loc[i] = resultat_par_devise.loc[i]/S0.loc[i]"
   ]
  },
  {
   "cell_type": "code",
   "execution_count": 79,
   "metadata": {},
   "outputs": [
    {
     "data": {
      "text/plain": [
       "array([[34790757.32      ],\n",
       "       [34585500.41982255],\n",
       "       [34506612.41918833],\n",
       "       ...,\n",
       "       [30469523.13604411],\n",
       "       [30469523.13604411],\n",
       "       [30585001.68689968]])"
      ]
     },
     "execution_count": 79,
     "metadata": {},
     "output_type": "execute_result"
    }
   ],
   "source": [
    "float(resultat_par_devise.loc[\"MGA\"])*mga.values\n"
   ]
  },
  {
   "cell_type": "code",
   "execution_count": 57,
   "metadata": {},
   "outputs": [],
   "source": [
    "eur = EURMAD.loc[\"2019-03-01\":]\n",
    "mga = MGAMAD.loc[\"2019-03-01\":]\n",
    "usd = USDMAD.loc[\"2019-03-01\":]"
   ]
  },
  {
   "cell_type": "code",
   "execution_count": 92,
   "metadata": {},
   "outputs": [
    {
     "data": {
      "text/plain": [
       "array([[2.31220580e+08],\n",
       "       [2.31302389e+08],\n",
       "       [2.31189959e+08],\n",
       "       ...,\n",
       "       [2.22948691e+08],\n",
       "       [2.22948691e+08],\n",
       "       [2.24246654e+08]])"
      ]
     },
     "execution_count": 92,
     "metadata": {},
     "output_type": "execute_result"
    }
   ],
   "source": [
    "d"
   ]
  },
  {
   "cell_type": "code",
   "execution_count": 98,
   "metadata": {},
   "outputs": [
    {
     "data": {
      "text/plain": [
       "<AxesSubplot:xlabel='Date'>"
      ]
     },
     "execution_count": 98,
     "metadata": {},
     "output_type": "execute_result"
    },
    {
     "data": {
      "image/png": "[encoded data removed]",
      "text/plain": [
       "<Figure size 432x288 with 1 Axes>"
      ]
     },
     "metadata": {
      "needs_background": "light"
     },
     "output_type": "display_data"
    },
    {
     "data": {
      "image/png": "[encoded data removed]",
      "text/plain": [
       "<Figure size 432x288 with 1 Axes>"
      ]
     },
     "metadata": {
      "needs_background": "light"
     },
     "output_type": "display_data"
    }
   ],
   "source": [
    "d  = (float(resultat_par_devise.loc[\"EUR\"])*eur.values + float(resultat_par_devise.loc[\"MGA\"])*mga.values)\n",
    "flat_list = [item for sublist in d for item in sublist]\n",
    "IL_1 = pd.Series(index = list(eur.index), data = flat_list )\n",
    "IL_2 = float(resultat_par_devise.loc[\"USD\"])*usd\n",
    "IL_1.plot(label = \"IL_1\", legend = True)\n",
    "\n",
    "IL_2.plot(label = \"IL_2\", legend = True)"
   ]
  },
  {
   "cell_type": "code",
   "execution_count": 99,
   "metadata": {},
   "outputs": [],
   "source": [
    "IL = IL_1.values + IL_2.values"
   ]
  },
  {
   "cell_type": "code",
   "execution_count": 104,
   "metadata": {},
   "outputs": [
    {
     "data": {
      "text/plain": [
       "array([2.31220580e+08, 2.31302389e+08, 2.31189959e+08, ...,\n",
       "       2.22948691e+08, 2.22948691e+08, 2.24246654e+08])"
      ]
     },
     "execution_count": 104,
     "metadata": {},
     "output_type": "execute_result"
    }
   ],
   "source": [
    "IL_1.values"
   ]
  },
  {
   "cell_type": "code",
   "execution_count": 45,
   "metadata": {},
   "outputs": [
    {
     "data": {
      "text/plain": [
       "<matplotlib.legend.Legend at 0x1ae15e02d90>"
      ]
     },
     "execution_count": 45,
     "metadata": {},
     "output_type": "execute_result"
    },
    {
     "data": {
      "image/png": "[encoded data removed]",
      "text/plain": [
       "<Figure size 1152x432 with 1 Axes>"
      ]
     },
     "metadata": {
      "needs_background": "light"
     },
     "output_type": "display_data"
    }
   ],
   "source": [
    "XAFMAD.iloc[-252:].plot(figsize=(16,6))\n",
    "plt.axhline(np.quantile(XAFMAD_ar[-252:], 0.01), color='r', label=\"quantile 01%\", linestyle='-')\n",
    "plt.axhline(np.quantile(XAFMAD_ar[-252:], 0.99), color='r', label=\"quantile 99%\", linestyle='-')\n",
    "plt.legend()"
   ]
  },
  {
   "cell_type": "code",
   "execution_count": 15,
   "metadata": {},
   "outputs": [],
   "source": [
    "chocs = pd.DataFrame(index=resultat_par_devise.index, columns=resultat_par_devise.columns)"
   ]
  },
  {
   "cell_type": "code",
   "execution_count": 16,
   "metadata": {},
   "outputs": [],
   "source": [
    "arrays = {\"EUR\":EURMAD_ar, \"MGA\":MGAMAD_ar, \"USD\":USDMAD_ar, \"XAF\":XAFMAD_ar}\n",
    "dfs = {\"EUR\":EURMAD, \"MGA\":MGAMAD, \"USD\":USDMAD, \"XAF\":XAFMAD}\n",
    "tickers = list(arrays.keys())"
   ]
  },
  {
   "cell_type": "code",
   "execution_count": 17,
   "metadata": {},
   "outputs": [],
   "source": [
    "coef_var = pd.DataFrame(index=np.unique(np.array([day.year for day in XAFMAD.index])), columns=resultat_par_devise.index)"
   ]
  },
  {
   "cell_type": "code",
   "execution_count": 18,
   "metadata": {},
   "outputs": [],
   "source": [
    "for ticker in coef_var.columns:\n",
    "    r = [day.year for day in dfs[ticker].index]\n",
    "    grp = dfs[ticker].groupby(r)\n",
    "    coef_var[ticker] = (grp.std()/grp.mean())"
   ]
  },
  {
   "cell_type": "code",
   "execution_count": 19,
   "metadata": {},
   "outputs": [
    {
     "data": {
      "text/html": [
       "<div>\n",
       "<style scoped>\n",
       "    .dataframe tbody tr th:only-of-type {\n",
       "        vertical-align: middle;\n",
       "    }\n",
       "\n",
       "    .dataframe tbody tr th {\n",
       "        vertical-align: top;\n",
       "    }\n",
       "\n",
       "    .dataframe thead th {\n",
       "        text-align: right;\n",
       "    }\n",
       "</style>\n",
       "<table border=\"1\" class=\"dataframe\">\n",
       "  <thead>\n",
       "    <tr style=\"text-align: right;\">\n",
       "      <th>Home_Currency</th>\n",
       "      <th>EUR</th>\n",
       "      <th>MGA</th>\n",
       "      <th>USD</th>\n",
       "      <th>XAF</th>\n",
       "    </tr>\n",
       "  </thead>\n",
       "  <tbody>\n",
       "    <tr>\n",
       "      <th>2003</th>\n",
       "      <td>0.004050</td>\n",
       "      <td>NaN</td>\n",
       "      <td>0.012753</td>\n",
       "      <td>0.004891</td>\n",
       "    </tr>\n",
       "    <tr>\n",
       "      <th>2004</th>\n",
       "      <td>0.008221</td>\n",
       "      <td>NaN</td>\n",
       "      <td>0.027992</td>\n",
       "      <td>0.008392</td>\n",
       "    </tr>\n",
       "    <tr>\n",
       "      <th>2005</th>\n",
       "      <td>0.011984</td>\n",
       "      <td>0.037554</td>\n",
       "      <td>0.032128</td>\n",
       "      <td>0.023972</td>\n",
       "    </tr>\n",
       "    <tr>\n",
       "      <th>2006</th>\n",
       "      <td>0.015280</td>\n",
       "      <td>0.023337</td>\n",
       "      <td>0.034062</td>\n",
       "      <td>0.021694</td>\n",
       "    </tr>\n",
       "    <tr>\n",
       "      <th>2007</th>\n",
       "      <td>0.013272</td>\n",
       "      <td>0.021371</td>\n",
       "      <td>0.031989</td>\n",
       "      <td>0.011674</td>\n",
       "    </tr>\n",
       "    <tr>\n",
       "      <th>2008</th>\n",
       "      <td>0.012970</td>\n",
       "      <td>0.048323</td>\n",
       "      <td>0.060879</td>\n",
       "      <td>0.014698</td>\n",
       "    </tr>\n",
       "    <tr>\n",
       "      <th>2009</th>\n",
       "      <td>0.009816</td>\n",
       "      <td>0.050035</td>\n",
       "      <td>0.044390</td>\n",
       "      <td>0.011882</td>\n",
       "    </tr>\n",
       "    <tr>\n",
       "      <th>2010</th>\n",
       "      <td>0.010235</td>\n",
       "      <td>0.036905</td>\n",
       "      <td>0.037439</td>\n",
       "      <td>0.010798</td>\n",
       "    </tr>\n",
       "    <tr>\n",
       "      <th>2011</th>\n",
       "      <td>0.012242</td>\n",
       "      <td>0.019921</td>\n",
       "      <td>0.030129</td>\n",
       "      <td>0.012410</td>\n",
       "    </tr>\n",
       "    <tr>\n",
       "      <th>2012</th>\n",
       "      <td>0.013155</td>\n",
       "      <td>0.028810</td>\n",
       "      <td>0.023224</td>\n",
       "      <td>0.015696</td>\n",
       "    </tr>\n",
       "    <tr>\n",
       "      <th>2013</th>\n",
       "      <td>0.013070</td>\n",
       "      <td>0.026730</td>\n",
       "      <td>0.020401</td>\n",
       "      <td>0.013111</td>\n",
       "    </tr>\n",
       "    <tr>\n",
       "      <th>2014</th>\n",
       "      <td>0.013833</td>\n",
       "      <td>0.038310</td>\n",
       "      <td>0.035837</td>\n",
       "      <td>0.013918</td>\n",
       "    </tr>\n",
       "    <tr>\n",
       "      <th>2015</th>\n",
       "      <td>0.014078</td>\n",
       "      <td>0.057721</td>\n",
       "      <td>0.020142</td>\n",
       "      <td>0.015001</td>\n",
       "    </tr>\n",
       "    <tr>\n",
       "      <th>2016</th>\n",
       "      <td>0.014990</td>\n",
       "      <td>0.028425</td>\n",
       "      <td>0.017621</td>\n",
       "      <td>0.015341</td>\n",
       "    </tr>\n",
       "    <tr>\n",
       "      <th>2017</th>\n",
       "      <td>0.020301</td>\n",
       "      <td>0.034091</td>\n",
       "      <td>0.032730</td>\n",
       "      <td>0.020068</td>\n",
       "    </tr>\n",
       "    <tr>\n",
       "      <th>2018</th>\n",
       "      <td>0.018252</td>\n",
       "      <td>0.031968</td>\n",
       "      <td>0.017031</td>\n",
       "      <td>0.021809</td>\n",
       "    </tr>\n",
       "    <tr>\n",
       "      <th>2019</th>\n",
       "      <td>0.008644</td>\n",
       "      <td>0.019659</td>\n",
       "      <td>0.010033</td>\n",
       "      <td>0.013057</td>\n",
       "    </tr>\n",
       "    <tr>\n",
       "      <th>2020</th>\n",
       "      <td>0.013339</td>\n",
       "      <td>0.051942</td>\n",
       "      <td>0.037786</td>\n",
       "      <td>0.016920</td>\n",
       "    </tr>\n",
       "    <tr>\n",
       "      <th>2021</th>\n",
       "      <td>0.012551</td>\n",
       "      <td>0.021639</td>\n",
       "      <td>0.019220</td>\n",
       "      <td>0.020546</td>\n",
       "    </tr>\n",
       "    <tr>\n",
       "      <th>2022</th>\n",
       "      <td>0.007290</td>\n",
       "      <td>0.009062</td>\n",
       "      <td>0.008880</td>\n",
       "      <td>0.007756</td>\n",
       "    </tr>\n",
       "  </tbody>\n",
       "</table>\n",
       "</div>"
      ],
      "text/plain": [
       "Home_Currency       EUR       MGA       USD       XAF\n",
       "2003           0.004050       NaN  0.012753  0.004891\n",
       "2004           0.008221       NaN  0.027992  0.008392\n",
       "2005           0.011984  0.037554  0.032128  0.023972\n",
       "2006           0.015280  0.023337  0.034062  0.021694\n",
       "2007           0.013272  0.021371  0.031989  0.011674\n",
       "2008           0.012970  0.048323  0.060879  0.014698\n",
       "2009           0.009816  0.050035  0.044390  0.011882\n",
       "2010           0.010235  0.036905  0.037439  0.010798\n",
       "2011           0.012242  0.019921  0.030129  0.012410\n",
       "2012           0.013155  0.028810  0.023224  0.015696\n",
       "2013           0.013070  0.026730  0.020401  0.013111\n",
       "2014           0.013833  0.038310  0.035837  0.013918\n",
       "2015           0.014078  0.057721  0.020142  0.015001\n",
       "2016           0.014990  0.028425  0.017621  0.015341\n",
       "2017           0.020301  0.034091  0.032730  0.020068\n",
       "2018           0.018252  0.031968  0.017031  0.021809\n",
       "2019           0.008644  0.019659  0.010033  0.013057\n",
       "2020           0.013339  0.051942  0.037786  0.016920\n",
       "2021           0.012551  0.021639  0.019220  0.020546\n",
       "2022           0.007290  0.009062  0.008880  0.007756"
      ]
     },
     "execution_count": 19,
     "metadata": {},
     "output_type": "execute_result"
    }
   ],
   "source": [
    "coef_var"
   ]
  },
  {
   "cell_type": "code",
   "execution_count": 20,
   "metadata": {},
   "outputs": [],
   "source": [
    "chocs = pd.DataFrame(index=resultat_par_devise.index, columns=[\"Quantile_99\", \"Quantile_01\"])"
   ]
  },
  {
   "cell_type": "code",
   "execution_count": 21,
   "metadata": {},
   "outputs": [],
   "source": [
    "for ticker in arrays.keys():\n",
    "    chocs.loc[ticker, \"Quantile_99\"] = np.quantile(arrays[ticker][-252:], 0.99)\n",
    "    chocs.loc[ticker, \"Quantile_01\"] = np.quantile(arrays[ticker][-252:], 0.01)"
   ]
  },
  {
   "cell_type": "code",
   "execution_count": 22,
   "metadata": {},
   "outputs": [],
   "source": [
    "PX_LAST = EURMAD\n",
    "for ticker in tickers[1:]:\n",
    "    PX_LAST = pd.merge(PX_LAST, dfs[ticker], on='Date',how='outer')\n",
    "PX_LAST = PX_LAST.sort_index()\n",
    "PX_LAST = PX_LAST.ffill().bfill()"
   ]
  },
  {
   "cell_type": "code",
   "execution_count": 23,
   "metadata": {},
   "outputs": [],
   "source": [
    "last_date = PX_LAST.tail(1).index[0]\n",
    "for ticker in tickers:\n",
    "    if resultat_par_devise.loc[ticker, \"CV_MAD\"] >0:\n",
    "        chocs.loc[ticker,\"diff_with_today\"] = (PX_LAST.loc[last_date, ticker+\"MAD\"] - chocs.loc[ticker,\"Quantile_01\"])\n",
    "        chocs.loc[ticker,\"Choc_based_on_quantile\"] = (PX_LAST.loc[last_date, ticker+\"MAD\"] - chocs.loc[ticker,\"Quantile_01\"])*resultat_par_devise.loc[ticker, \"CV_MAD\"]\n",
    "    else:\n",
    "        chocs.loc[ticker,\"diff_with_today\"] = (PX_LAST.loc[last_date, ticker+\"MAD\"] - chocs.loc[ticker,\"Quantile_99\"])\n",
    "        chocs.loc[ticker,\"Choc_based_on_quantile\"] = -(PX_LAST.loc[last_date, ticker+\"MAD\"] - chocs.loc[ticker,\"Quantile_99\"])*resultat_par_devise.loc[ticker, \"CV_MAD\"]"
   ]
  },
  {
   "cell_type": "code",
   "execution_count": 24,
   "metadata": {},
   "outputs": [
    {
     "data": {
      "text/html": [
       "<div>\n",
       "<style scoped>\n",
       "    .dataframe tbody tr th:only-of-type {\n",
       "        vertical-align: middle;\n",
       "    }\n",
       "\n",
       "    .dataframe tbody tr th {\n",
       "        vertical-align: top;\n",
       "    }\n",
       "\n",
       "    .dataframe thead th {\n",
       "        text-align: right;\n",
       "    }\n",
       "</style>\n",
       "<table border=\"1\" class=\"dataframe\">\n",
       "  <thead>\n",
       "    <tr style=\"text-align: right;\">\n",
       "      <th></th>\n",
       "      <th>Quantile_99</th>\n",
       "      <th>Quantile_01</th>\n",
       "      <th>diff_with_today</th>\n",
       "      <th>Choc_based_on_quantile</th>\n",
       "    </tr>\n",
       "    <tr>\n",
       "      <th>Home_Currency</th>\n",
       "      <th></th>\n",
       "      <th></th>\n",
       "      <th></th>\n",
       "      <th></th>\n",
       "    </tr>\n",
       "  </thead>\n",
       "  <tbody>\n",
       "    <tr>\n",
       "      <th>EUR</th>\n",
       "      <td>10.7048</td>\n",
       "      <td>10.3949</td>\n",
       "      <td>0.316029</td>\n",
       "      <td>4.647880e+07</td>\n",
       "    </tr>\n",
       "    <tr>\n",
       "      <th>MGA</th>\n",
       "      <td>0.00240609</td>\n",
       "      <td>0.00222814</td>\n",
       "      <td>0.000167</td>\n",
       "      <td>5.826297e+03</td>\n",
       "    </tr>\n",
       "    <tr>\n",
       "      <th>USD</th>\n",
       "      <td>9.46224</td>\n",
       "      <td>8.6253</td>\n",
       "      <td>0.084260</td>\n",
       "      <td>1.745096e+06</td>\n",
       "    </tr>\n",
       "    <tr>\n",
       "      <th>XAF</th>\n",
       "      <td>0.0163497</td>\n",
       "      <td>0.015492</td>\n",
       "      <td>0.000785</td>\n",
       "      <td>3.875068e+04</td>\n",
       "    </tr>\n",
       "  </tbody>\n",
       "</table>\n",
       "</div>"
      ],
      "text/plain": [
       "              Quantile_99 Quantile_01  diff_with_today  Choc_based_on_quantile\n",
       "Home_Currency                                                                 \n",
       "EUR               10.7048     10.3949         0.316029            4.647880e+07\n",
       "MGA            0.00240609  0.00222814         0.000167            5.826297e+03\n",
       "USD               9.46224      8.6253         0.084260            1.745096e+06\n",
       "XAF             0.0163497    0.015492         0.000785            3.875068e+04"
      ]
     },
     "execution_count": 24,
     "metadata": {},
     "output_type": "execute_result"
    }
   ],
   "source": [
    "chocs"
   ]
  },
  {
   "cell_type": "code",
   "execution_count": 25,
   "metadata": {},
   "outputs": [],
   "source": [
    "chocs[\"volatility\"] = PX_LAST.iloc[-252:, :].std().values"
   ]
  },
  {
   "cell_type": "code",
   "execution_count": 26,
   "metadata": {},
   "outputs": [],
   "source": [
    "for ticker in tickers:\n",
    "    if resultat_par_devise.loc[ticker, \"CV_MAD\"] >0:\n",
    "        chocs.loc[ticker,\"Choc_based_on_vol\"] = (chocs.loc[ticker,\"volatility\"])*resultat_par_devise.loc[ticker, \"CV_MAD\"]\n",
    "    else:\n",
    "        chocs.loc[ticker,\"Choc_based_on_vol\"] = -(chocs.loc[ticker,\"volatility\"])*resultat_par_devise.loc[ticker, \"CV_MAD\"]"
   ]
  },
  {
   "cell_type": "code",
   "execution_count": 27,
   "metadata": {},
   "outputs": [
    {
     "data": {
      "text/html": [
       "<div>\n",
       "<style scoped>\n",
       "    .dataframe tbody tr th:only-of-type {\n",
       "        vertical-align: middle;\n",
       "    }\n",
       "\n",
       "    .dataframe tbody tr th {\n",
       "        vertical-align: top;\n",
       "    }\n",
       "\n",
       "    .dataframe thead th {\n",
       "        text-align: right;\n",
       "    }\n",
       "</style>\n",
       "<table border=\"1\" class=\"dataframe\">\n",
       "  <thead>\n",
       "    <tr style=\"text-align: right;\">\n",
       "      <th></th>\n",
       "      <th>Quantile_99</th>\n",
       "      <th>Quantile_01</th>\n",
       "      <th>diff_with_today</th>\n",
       "      <th>Choc_based_on_quantile</th>\n",
       "      <th>volatility</th>\n",
       "      <th>Choc_based_on_vol</th>\n",
       "    </tr>\n",
       "    <tr>\n",
       "      <th>Home_Currency</th>\n",
       "      <th></th>\n",
       "      <th></th>\n",
       "      <th></th>\n",
       "      <th></th>\n",
       "      <th></th>\n",
       "      <th></th>\n",
       "    </tr>\n",
       "  </thead>\n",
       "  <tbody>\n",
       "    <tr>\n",
       "      <th>EUR</th>\n",
       "      <td>10.7048</td>\n",
       "      <td>10.3949</td>\n",
       "      <td>0.316029</td>\n",
       "      <td>4.647880e+07</td>\n",
       "      <td>0.067477</td>\n",
       "      <td>9.923943e+06</td>\n",
       "    </tr>\n",
       "    <tr>\n",
       "      <th>MGA</th>\n",
       "      <td>0.00240609</td>\n",
       "      <td>0.00222814</td>\n",
       "      <td>0.000167</td>\n",
       "      <td>5.826297e+03</td>\n",
       "      <td>0.000042</td>\n",
       "      <td>1.476907e+03</td>\n",
       "    </tr>\n",
       "    <tr>\n",
       "      <th>USD</th>\n",
       "      <td>9.46224</td>\n",
       "      <td>8.6253</td>\n",
       "      <td>0.084260</td>\n",
       "      <td>1.745096e+06</td>\n",
       "      <td>0.231723</td>\n",
       "      <td>4.799175e+06</td>\n",
       "    </tr>\n",
       "    <tr>\n",
       "      <th>XAF</th>\n",
       "      <td>0.0163497</td>\n",
       "      <td>0.015492</td>\n",
       "      <td>0.000785</td>\n",
       "      <td>3.875068e+04</td>\n",
       "      <td>0.000219</td>\n",
       "      <td>1.079855e+04</td>\n",
       "    </tr>\n",
       "  </tbody>\n",
       "</table>\n",
       "</div>"
      ],
      "text/plain": [
       "              Quantile_99 Quantile_01  diff_with_today  \\\n",
       "Home_Currency                                            \n",
       "EUR               10.7048     10.3949         0.316029   \n",
       "MGA            0.00240609  0.00222814         0.000167   \n",
       "USD               9.46224      8.6253         0.084260   \n",
       "XAF             0.0163497    0.015492         0.000785   \n",
       "\n",
       "               Choc_based_on_quantile  volatility  Choc_based_on_vol  \n",
       "Home_Currency                                                         \n",
       "EUR                      4.647880e+07    0.067477       9.923943e+06  \n",
       "MGA                      5.826297e+03    0.000042       1.476907e+03  \n",
       "USD                      1.745096e+06    0.231723       4.799175e+06  \n",
       "XAF                      3.875068e+04    0.000219       1.079855e+04  "
      ]
     },
     "execution_count": 27,
     "metadata": {},
     "output_type": "execute_result"
    }
   ],
   "source": [
    "chocs"
   ]
  },
  {
   "cell_type": "code",
   "execution_count": 28,
   "metadata": {},
   "outputs": [],
   "source": [
    "returns = PX_LAST/PX_LAST.shift(1)-1"
   ]
  },
  {
   "cell_type": "code",
   "execution_count": 29,
   "metadata": {},
   "outputs": [],
   "source": [
    "chocs[\"min_variation\"] = returns.iloc[-252:].min().values\n",
    "chocs[\"max_variation\"] = returns.iloc[-252:].max().values"
   ]
  },
  {
   "cell_type": "code",
   "execution_count": 30,
   "metadata": {},
   "outputs": [],
   "source": [
    "for ticker in tickers:\n",
    "    if resultat_par_devise.loc[ticker, \"CV_MAD\"] >0:\n",
    "        chocs.loc[ticker,\"Choc_based_on_variation\"] = -(PX_LAST.loc[last_date, ticker+\"MAD\"]*(chocs.loc[ticker,\"min_variation\"])*resultat_par_devise.loc[ticker, \"CV_MAD\"])\n",
    "    else:\n",
    "        chocs.loc[ticker,\"Choc_based_on_variation\"] = -(PX_LAST.loc[last_date, ticker+\"MAD\"]*chocs.loc[ticker,\"max_variation\"])*resultat_par_devise.loc[ticker, \"CV_MAD\"]"
   ]
  },
  {
   "cell_type": "code",
   "execution_count": 31,
   "metadata": {},
   "outputs": [
    {
     "data": {
      "text/html": [
       "<div>\n",
       "<style scoped>\n",
       "    .dataframe tbody tr th:only-of-type {\n",
       "        vertical-align: middle;\n",
       "    }\n",
       "\n",
       "    .dataframe tbody tr th {\n",
       "        vertical-align: top;\n",
       "    }\n",
       "\n",
       "    .dataframe thead th {\n",
       "        text-align: right;\n",
       "    }\n",
       "</style>\n",
       "<table border=\"1\" class=\"dataframe\">\n",
       "  <thead>\n",
       "    <tr style=\"text-align: right;\">\n",
       "      <th></th>\n",
       "      <th>Quantile_99</th>\n",
       "      <th>Quantile_01</th>\n",
       "      <th>diff_with_today</th>\n",
       "      <th>Choc_based_on_quantile</th>\n",
       "      <th>volatility</th>\n",
       "      <th>Choc_based_on_vol</th>\n",
       "      <th>min_variation</th>\n",
       "      <th>max_variation</th>\n",
       "      <th>Choc_based_on_variation</th>\n",
       "    </tr>\n",
       "    <tr>\n",
       "      <th>Home_Currency</th>\n",
       "      <th></th>\n",
       "      <th></th>\n",
       "      <th></th>\n",
       "      <th></th>\n",
       "      <th></th>\n",
       "      <th></th>\n",
       "      <th></th>\n",
       "      <th></th>\n",
       "      <th></th>\n",
       "    </tr>\n",
       "  </thead>\n",
       "  <tbody>\n",
       "    <tr>\n",
       "      <th>EUR</th>\n",
       "      <td>10.7048</td>\n",
       "      <td>10.3949</td>\n",
       "      <td>0.316029</td>\n",
       "      <td>4.647880e+07</td>\n",
       "      <td>0.067477</td>\n",
       "      <td>9.923943e+06</td>\n",
       "      <td>-0.008058</td>\n",
       "      <td>0.010154</td>\n",
       "      <td>1.269282e+07</td>\n",
       "    </tr>\n",
       "    <tr>\n",
       "      <th>MGA</th>\n",
       "      <td>0.00240609</td>\n",
       "      <td>0.00222814</td>\n",
       "      <td>0.000167</td>\n",
       "      <td>5.826297e+03</td>\n",
       "      <td>0.000042</td>\n",
       "      <td>1.476907e+03</td>\n",
       "      <td>-0.057581</td>\n",
       "      <td>0.057197</td>\n",
       "      <td>4.799078e+03</td>\n",
       "    </tr>\n",
       "    <tr>\n",
       "      <th>USD</th>\n",
       "      <td>9.46224</td>\n",
       "      <td>8.6253</td>\n",
       "      <td>0.084260</td>\n",
       "      <td>1.745096e+06</td>\n",
       "      <td>0.231723</td>\n",
       "      <td>4.799175e+06</td>\n",
       "      <td>-0.034550</td>\n",
       "      <td>0.036852</td>\n",
       "      <td>7.286212e+06</td>\n",
       "    </tr>\n",
       "    <tr>\n",
       "      <th>XAF</th>\n",
       "      <td>0.0163497</td>\n",
       "      <td>0.015492</td>\n",
       "      <td>0.000785</td>\n",
       "      <td>3.875068e+04</td>\n",
       "      <td>0.000219</td>\n",
       "      <td>1.079855e+04</td>\n",
       "      <td>-0.039834</td>\n",
       "      <td>0.042955</td>\n",
       "      <td>3.200288e+04</td>\n",
       "    </tr>\n",
       "  </tbody>\n",
       "</table>\n",
       "</div>"
      ],
      "text/plain": [
       "              Quantile_99 Quantile_01  diff_with_today  \\\n",
       "Home_Currency                                            \n",
       "EUR               10.7048     10.3949         0.316029   \n",
       "MGA            0.00240609  0.00222814         0.000167   \n",
       "USD               9.46224      8.6253         0.084260   \n",
       "XAF             0.0163497    0.015492         0.000785   \n",
       "\n",
       "               Choc_based_on_quantile  volatility  Choc_based_on_vol  \\\n",
       "Home_Currency                                                          \n",
       "EUR                      4.647880e+07    0.067477       9.923943e+06   \n",
       "MGA                      5.826297e+03    0.000042       1.476907e+03   \n",
       "USD                      1.745096e+06    0.231723       4.799175e+06   \n",
       "XAF                      3.875068e+04    0.000219       1.079855e+04   \n",
       "\n",
       "               min_variation  max_variation  Choc_based_on_variation  \n",
       "Home_Currency                                                         \n",
       "EUR                -0.008058       0.010154             1.269282e+07  \n",
       "MGA                -0.057581       0.057197             4.799078e+03  \n",
       "USD                -0.034550       0.036852             7.286212e+06  \n",
       "XAF                -0.039834       0.042955             3.200288e+04  "
      ]
     },
     "execution_count": 31,
     "metadata": {},
     "output_type": "execute_result"
    }
   ],
   "source": [
    "chocs"
   ]
  },
  {
   "cell_type": "code",
   "execution_count": null,
   "metadata": {},
   "outputs": [],
   "source": []
  }
 ],
 "metadata": {
  "kernelspec": {
   "display_name": "Python 3",
   "language": "python",
   "name": "python3"
  },
  "language_info": {
   "codemirror_mode": {
    "name": "ipython",
    "version": 3
   },
   "file_extension": ".py",
   "mimetype": "text/x-python",
   "name": "python",
   "nbconvert_exporter": "python",
   "pygments_lexer": "ipython3",
   "version": "3.8.5"
  }
 },
 "nbformat": 4,
 "nbformat_minor": 4
}
